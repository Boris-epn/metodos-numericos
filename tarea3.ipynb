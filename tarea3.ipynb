{
 "cells": [
  {
   "cell_type": "raw",
   "id": "ed71930e-c841-4184-b595-1fa74eeefdd0",
   "metadata": {},
   "source": [
    "---\n",
    "title: \"Conjunto de ejercicios 1\"\n",
    "author: \"Boris Garcés\"\n",
    "lang: es\n",
    "format:\n",
    "    pdf:\n",
    "        toc: true\n",
    "        toc-title: \"Tabla de Contenidos\"\n",
    "execute:\n",
    "    echo: true\n",
    "    error: false\n",
    "    warning: false\n",
    "code-fold: true\n",
    "jupyter: python3\n",
    "---"
   ]
  },
  {
   "cell_type": "markdown",
   "id": "b11a23aa-d5e6-418b-b8ca-fd7805e56981",
   "metadata": {},
   "source": [
    "2. La serie de Maclaurin para la función arcotangente converge para $-1< x \\le 1$ y está dada por\r\n",
    "\\begin{equation}\r\n",
    "\\arctan x = \\lim_{n \\to \\infty} P_n(x) = \\lim_{n \\to \\infty} \\sum_{i=1}^{n} (-1)^{i+1} \\frac{x^{2i-1}}{2i-1}.\r\n",
    "\\end{equation}"
   ]
  },
  {
   "cell_type": "markdown",
   "id": "59554deb-59c8-4884-8bf7-a008a0ca392e",
   "metadata": {},
   "source": [
    "a) Utilice el hecho de que $\\tan \\frac{\\pi}{4}=1$ para determinar el número n de términos de la serie que se necesita sumar para garantizar que $\\left|4P_n(1)-\\pi \\right|<10^{-3}$"
   ]
  },
  {
   "cell_type": "markdown",
   "id": "e2d632cc-f285-4fba-a653-b4a476cd3129",
   "metadata": {},
   "source": [
    "Partiendo de $\\tan \\frac{\\pi}{4}=1$, podemos obtener lo siguiente:\n",
    "$\\arctan (1)=\\frac{pi}{4}$\n",
    "De acuerdo con la serie de Maclaurin\n",
    "$\\arctan (1)= \\sum{i=1}^{n} (-1)^{i+1}\\frac{1^{2i-1}}{2i-1}$\n",
    "$P_n(1)=\\sum{i=1}^{n}(-1)^{i+1}\\frac{1}{2i-1}$\n",
    "A continuación daremos valores a n para garantizar que $\\left|4P_n(1)-pi \\right|<10^{-3}$"
   ]
  },
  {
   "cell_type": "code",
   "execution_count": 2,
   "id": "fcc2d972-f453-47f7-bd79-e360d8b6ad99",
   "metadata": {},
   "outputs": [
    {
     "name": "stdout",
     "output_type": "stream",
     "text": [
      "El número de términos necesarios es 1000\n"
     ]
    }
   ],
   "source": [
    "import math\n",
    "n = 0\n",
    "valor_encontrado = 100\n",
    "def calcular_arcotangente(n: int) -> float:\n",
    "    arcotangente = 0\n",
    "    for i in range(1, n + 1):\n",
    "        arcotangente += (-1)**(i + 1) * (1 / (2 * i - 1))\n",
    "    return arcotangente\n",
    "\n",
    "while valor_encontrado >= 10**-3:\n",
    "    n += 1\n",
    "    arcotangente = calcular_arcotangente(n)\n",
    "    valor_encontrado = abs(4 * arcotangente - math.pi)\n",
    "\n",
    "print(f'El número de términos necesarios es {n}')\n"
   ]
  },
  {
   "cell_type": "markdown",
   "id": "d5295019-ff83-4d8d-bd70-0d6a10491e41",
   "metadata": {},
   "source": [
    "b) El lenguaje de programación c++ requiere que el valor $\\pi$ se encuentre dentro de $10^{-10}$.  ¿Cuántos términos de la sere se necesitarían sumar para obtener este grado de presición?"
   ]
  },
  {
   "cell_type": "markdown",
   "id": "9e8cfbd8-560c-4a7e-b161-63460257be67",
   "metadata": {},
   "source": [
    "A partir del razonamiento anterior se obtiene:\n",
    "$4*\\sum_{i=1}^{n}(-1)^{i+1}\\frac{1}{2i-1}=\\pi$"
   ]
  },
  {
   "cell_type": "code",
   "execution_count": 1,
   "id": "23b05e2c-8fcc-43c6-83db-253eab500125",
   "metadata": {},
   "outputs": [
    {
     "name": "stdout",
     "output_type": "stream",
     "text": [
      "Se necesitaron 10794 términos para obtener 6 decimales correctos.\n"
     ]
    }
   ],
   "source": [
    "import math\n",
    "\n",
    "def calcular_pi(n):\n",
    "    suma = 0\n",
    "    for i in range(n):\n",
    "        suma += (-1) ** i * (1 / (2 * i + 1))\n",
    "    return 4 * suma\n",
    "\n",
    "def comparar_pi(aproximacion, pi_exacto, precision):\n",
    "   \n",
    "    str_aprox = str(aproximacion)[:precision+2]  \n",
    "    str_pi = str(pi_exacto)[:precision+2]\n",
    "    contador_acierto = 0\n",
    "    for i in range(precision+2):\n",
    "        if str_aprox[i] == str_pi[i]:\n",
    "            contador_acierto += 1\n",
    "        else:\n",
    "            break\n",
    "    return contador_acierto\n",
    "\n",
    "precision_deseada = 6\n",
    "pi_exacto = math.pi\n",
    "n = 1\n",
    "while True:\n",
    "    aproximacion = calcular_pi(n)\n",
    "    aciertos = comparar_pi(aproximacion, pi_exacto, precision_deseada)\n",
    "    if aciertos >= precision_deseada:\n",
    "        break\n",
    "    n += 1\n",
    "print(f\"Se necesitaron {n} términos para obtener {precision_deseada} decimales correctos.\")"
   ]
  },
  {
   "cell_type": "markdown",
   "id": "88539e39-a97b-42ac-ae86-4812768bfd3f",
   "metadata": {},
   "source": [
    "3. Otra fórmula para calcular $\\pi$ se puede deducir a partir de la identidad $\\pi/4=4\\arctan\\frac{1}{5}-arctan\\frac{1}{239}$.Determine el número de términos que se deben sumar para garantizar una aproximación dentro de $10^{-3}$"
   ]
  },
  {
   "cell_type": "markdown",
   "id": "b033cbe6-9a69-48a0-90ae-5d1551172aac",
   "metadata": {},
   "source": [
    "Para resolver este problema se debe despejar el valor de pi, obteniendo de este modo:\n",
    "$\\pi=4*(4*\\arctan\\frac{1}{5}-\\arctan\\frac{1}{239})$\n",
    "y el valor de la arcotangente lo podemos determinar como resultado de la serie de Maclaurin"
   ]
  },
  {
   "cell_type": "code",
   "execution_count": 5,
   "id": "d45cef94-6c19-4283-8fe3-c1f460134076",
   "metadata": {},
   "outputs": [
    {
     "name": "stdout",
     "output_type": "stream",
     "text": [
      "Se necesitaron 1 términos para obtener 3 decimales correctos.\n"
     ]
    }
   ],
   "source": [
    "import math\n",
    "\n",
    "def calcular_pi(n):\n",
    "    arctan1 = 0\n",
    "    arctan2 = 0\n",
    "    for i in range(n):\n",
    "        arctan1 += (-1)**i * (1 / (5**(2*i+1) * (2*i+1)))\n",
    "        arctan2 += (-1)**i * (1 / (239**(2*i+1) * (2*i+1)))\n",
    "    return 4 * (4*arctan1 - arctan2)\n",
    "def comparar_pi(aproximacion, pi_exacto, precision):\n",
    "    str_aprox = str(aproximacion)[:precision+2]\n",
    "    str_pi = str(pi_exacto)[:precision+2]\n",
    "    contador_acierto = 0\n",
    "    for i in range(precision+2):\n",
    "        if str_aprox[i] == str_pi[i]:\n",
    "            contador_acierto += 1\n",
    "        else:\n",
    "            break\n",
    "    return contador_acierto\n",
    "pi_exacto = math.pi\n",
    "precision_deseada = 3\n",
    "n = 1\n",
    "while True:\n",
    "    aproximacion = calcular_pi(n)\n",
    "    aciertos = comparar_pi(aproximacion, pi_exacto, precision_deseada)\n",
    "    if aciertos >= precision_deseada:\n",
    "        break\n",
    "    n += 1\n",
    "print(f\"Se necesitaron {n} términos para obtener {precision_deseada} decimales correctos.\")  "
   ]
  },
  {
   "cell_type": "markdown",
   "id": "32f57d84-4ddc-4128-8ad9-f14bbede3c96",
   "metadata": {},
   "source": [
    "5. "
   ]
  },
  {
   "cell_type": "markdown",
   "id": "261aef0b-7ff6-4908-ab81-563677659e00",
   "metadata": {},
   "source": [
    "a) ¿Cuántas multiplicaciones y sumas se requieren para determinar una suma de la forma $\\sum_{i=1}^{n}\\sum_{j=1}^{i}a_ib_j$?"
   ]
  },
  {
   "cell_type": "markdown",
   "id": "4d8b1eec-b14a-4786-985d-ca9d3e88427b",
   "metadata": {},
   "source": [
    "para un valor dado de i, j toma valores de 1 hasta i, por lo que se realizan i multiplicaciones, dando que en total se realizarán $\\sum_{i=1}^{n}i=\\frac{n(n+1)}{2}$, siendo esta la cantidad de veces que se realiza la multiplicación."
   ]
  },
  {
   "cell_type": "code",
   "execution_count": 37,
   "id": "1fb086dd-6511-43f7-aeec-693da161a732",
   "metadata": {},
   "outputs": [
    {
     "name": "stdout",
     "output_type": "stream",
     "text": [
      "La multiplicación se ha realizado 6 veces\n"
     ]
    }
   ],
   "source": [
    "n = 3\n",
    "multiplicaciones = 0\n",
    "for i in range(1, n+1):\n",
    "    for j in range(1, i+1):\n",
    "        multiplicacion = i * j\n",
    "        multiplicaciones += 1\n",
    "\n",
    "print(f'La multiplicación se ha realizado {multiplicaciones} veces')"
   ]
  }
 ],
 "metadata": {
  "kernelspec": {
   "display_name": "Python 3 (ipykernel)",
   "language": "python",
   "name": "python3"
  },
  "language_info": {
   "codemirror_mode": {
    "name": "ipython",
    "version": 3
   },
   "file_extension": ".py",
   "mimetype": "text/x-python",
   "name": "python",
   "nbconvert_exporter": "python",
   "pygments_lexer": "ipython3",
   "version": "3.12.4"
  }
 },
 "nbformat": 4,
 "nbformat_minor": 5
}
