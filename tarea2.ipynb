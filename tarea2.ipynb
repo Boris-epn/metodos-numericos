{
 "cells": [
  {
   "cell_type": "raw",
   "id": "636d6011-bcf4-45bf-a8fa-82ae558b4913",
   "metadata": {},
   "source": [
    "---\n",
    "title: \"Conjunto de ejercicios 1\"\n",
    "author: \"Boris Garcés\"\n",
    "lang: es\n",
    "format:\n",
    "    pdf:\n",
    "        toc: true\n",
    "        toc-title: \"Tabla de Contenidos\"\n",
    "execute:\n",
    "    echo: true\n",
    "    error: false\n",
    "    warning: false\n",
    "code-fold: true\n",
    "jupyter: python3\n",
    "---"
   ]
  },
  {
   "cell_type": "markdown",
   "id": "e0dc3035-4b72-4c25-9e5e-02d977a5766a",
   "metadata": {},
   "source": [
    "Resuelva los siguientes ejercicios, tome en cuenta que debe mostrar el desarrollo completo del ejercicio.\n"
   ]
  },
  {
   "cell_type": "markdown",
   "id": "45a40deb-8642-46c8-949c-3bcc8de1918b",
   "metadata": {},
   "source": [
    "1. Calcule los errores absolutos y relativos en las aproximaciones de p por $p^*$\n",
    "![Ejercicio1](ejercicio1.png)"
   ]
  },
  {
   "cell_type": "markdown",
   "id": "dbf4915b-6954-43ba-8503-d39962877464",
   "metadata": {},
   "source": [
    "a)\n",
    "\n",
    "p= $\\pi%$\n",
    "\n",
    "$p^*$ = 22/7"
   ]
  },
  {
   "cell_type": "code",
   "execution_count": 10,
   "id": "21fab2c3-8e90-4fe2-aac9-362624d87476",
   "metadata": {},
   "outputs": [
    {
     "name": "stdout",
     "output_type": "stream",
     "text": [
      "El error absoluto es:  0.0012644892673496777\n",
      "El error relativo es: 0.0004024994347707008\n"
     ]
    }
   ],
   "source": [
    "import math\n",
    "Error_absoluto= abs(math.pi-(22/7))\n",
    "Error_relativo= abs(Error_absoluto/math.pi)\n",
    "print(f'El error absoluto es:  {Error_absoluto}')\n",
    "print(f'El error relativo es: {Error_relativo}')\n"
   ]
  },
  {
   "cell_type": "markdown",
   "id": "124fd796-8c42-4859-95aa-6836e0476b95",
   "metadata": {},
   "source": [
    "b)\n",
    "\n",
    "p= $\\pi$\n",
    "\n",
    "$p^*$ = 3.1416\n"
   ]
  },
  {
   "cell_type": "code",
   "execution_count": 38,
   "id": "b11b12ea-8ad1-48f4-9d4d-6f2c93a26664",
   "metadata": {},
   "outputs": [
    {
     "name": "stdout",
     "output_type": "stream",
     "text": [
      "El error absoluto es:  7.346410206832132e-06\n",
      "El error relativo es: 2.3384349967961744e-06\n"
     ]
    }
   ],
   "source": [
    "Error_absoluto= abs(math.pi-3.1416)\n",
    "Error_relativo= abs(Error_absoluto/math.pi)\n",
    "print(f'El error absoluto es:  {Error_absoluto}')\n",
    "print(f'El error relativo es: {Error_relativo}')"
   ]
  },
  {
   "cell_type": "markdown",
   "id": "02d0c814-87ce-4155-ab17-34dfb6a4fd4c",
   "metadata": {},
   "source": [
    "c)\n",
    "\n",
    "p=e\n",
    "\n",
    "$p^*$=2.718"
   ]
  },
  {
   "cell_type": "code",
   "execution_count": 44,
   "id": "7d8b9ae7-6bae-4c46-b46e-ada6a9b2ad00",
   "metadata": {},
   "outputs": [
    {
     "name": "stdout",
     "output_type": "stream",
     "text": [
      "El error absoluto es:  0.0002818284590451192\n",
      "El error relativo es: 0.00010367889601972718\n"
     ]
    }
   ],
   "source": [
    "Error_absoluto= abs(math.e-2.718)\n",
    "Error_relativo= abs(Error_absoluto/math.e)\n",
    "print(f'El error absoluto es:  {Error_absoluto}')\n",
    "print(f'El error relativo es: {Error_relativo}')"
   ]
  },
  {
   "cell_type": "markdown",
   "id": "daa05e49-d3cb-451b-b0d2-51e0b8a072b3",
   "metadata": {},
   "source": [
    "d)\n",
    "\n",
    "p= $\\sqrt{2}$\n",
    "\n",
    "$p^*$=1.414"
   ]
  },
  {
   "cell_type": "code",
   "execution_count": 60,
   "id": "255170e8-89a0-44a7-b820-65bce054d399",
   "metadata": {},
   "outputs": [
    {
     "name": "stdout",
     "output_type": "stream",
     "text": [
      "El error absoluto es:  0.00021356237309522186\n",
      "El error relativo es: 0.00015101140222192286\n"
     ]
    }
   ],
   "source": [
    "Error_absoluto= abs(2**(1/2)-1.414)\n",
    "Error_relativo= abs(Error_absoluto/(2**(1/2)))\n",
    "print(f'El error absoluto es:  {Error_absoluto}')\n",
    "print(f'El error relativo es: {Error_relativo}')"
   ]
  },
  {
   "cell_type": "markdown",
   "id": "eaa7d877-6ed4-48be-8924-b269bd43d53e",
   "metadata": {},
   "source": [
    "2.  Calcule los errores absoluto y relativo enlas aproximaciones de p por $p^*$\n",
    "![Ejercicio2](ejercicio2.png)"
   ]
  },
  {
   "cell_type": "markdown",
   "id": "a82820fd-c891-4ab4-a137-2c6c56a1e3de",
   "metadata": {},
   "source": [
    "a)\n",
    "\n",
    "p= $e^{10}$\n",
    "\n",
    "$p^*$=22000"
   ]
  },
  {
   "cell_type": "code",
   "execution_count": 77,
   "id": "96a6e2f3-4e00-447d-9e76-e8c40b5f939d",
   "metadata": {},
   "outputs": [
    {
     "name": "stdout",
     "output_type": "stream",
     "text": [
      "El error absoluto es:  26.465794806703343\n",
      "El error relativo es: 0.0012015452253326688\n"
     ]
    }
   ],
   "source": [
    "Error_absoluto= abs(math.e**10-22000)\n",
    "Error_relativo= abs(Error_absoluto/math.e**10)\n",
    "print(f'El error absoluto es:  {Error_absoluto}')\n",
    "print(f'El error relativo es: {Error_relativo}')"
   ]
  },
  {
   "cell_type": "markdown",
   "id": "bd238625-f59b-42ad-a3ca-423e111670e9",
   "metadata": {},
   "source": [
    "b)\n",
    "\n",
    "p=$10^{\\pi}$\n",
    "\n",
    "$p^*$=1400"
   ]
  },
  {
   "cell_type": "code",
   "execution_count": 81,
   "id": "1ad0aa96-1e47-4a0d-83ed-bc5e00966b60",
   "metadata": {},
   "outputs": [
    {
     "name": "stdout",
     "output_type": "stream",
     "text": [
      "El error absoluto es:  14.544268632989315\n",
      "El error relativo es: 0.010497822704619136\n"
     ]
    }
   ],
   "source": [
    "Error_absoluto= abs(10**math.pi-1400)\n",
    "Error_relativo=abs(Error_absoluto/10**math.pi)\n",
    "print(f'El error absoluto es:  {Error_absoluto}')\n",
    "print(f'El error relativo es: {Error_relativo}')"
   ]
  },
  {
   "cell_type": "markdown",
   "id": "a70bd32b-1329-472b-9dfc-cc39a4de969a",
   "metadata": {},
   "source": [
    "c)\n",
    "\n",
    "p= 8!\n",
    "\n",
    "$p^*$=39900"
   ]
  },
  {
   "cell_type": "code",
   "execution_count": 84,
   "id": "11edc498-5110-42a8-b296-d4edf71400f3",
   "metadata": {},
   "outputs": [
    {
     "name": "stdout",
     "output_type": "stream",
     "text": [
      "El error absoluto es:  420\n",
      "El error relativo es: 0.010416666666666666\n"
     ]
    }
   ],
   "source": [
    "Error_absoluto= abs(math.factorial(8)-39900)\n",
    "Error_relativo=abs(Error_absoluto/math.factorial(8))\n",
    "print(f'El error absoluto es:  {Error_absoluto}')\n",
    "print(f'El error relativo es: {Error_relativo}')"
   ]
  },
  {
   "cell_type": "markdown",
   "id": "7d8680cd-184f-431f-b39d-2225811a9e83",
   "metadata": {},
   "source": [
    "d)\n",
    "\n",
    "p= 9!\n",
    "\n",
    "$p^*$=$\\sqrt{18*\\pi}\\cdot(\\frac{9}{e})^9$"
   ]
  },
  {
   "cell_type": "code",
   "execution_count": 93,
   "id": "b55daf72-5442-4797-8332-81f3442ab4af",
   "metadata": {},
   "outputs": [
    {
     "name": "stdout",
     "output_type": "stream",
     "text": [
      "El error absoluto es:  3343.1271580516477\n",
      "El error relativo es: 0.009212762230080598\n"
     ]
    }
   ],
   "source": [
    "Error_absoluto= abs(math.factorial(9)-((18*math.pi)**(1/2)*(9/math.e)**9))\n",
    "Error_relativo=abs(Error_absoluto/math.factorial(9))\n",
    "print(f'El error absoluto es:  {Error_absoluto}')\n",
    "print(f'El error relativo es: {Error_relativo}')"
   ]
  },
  {
   "cell_type": "markdown",
   "id": "b3be00b2-107b-42c4-b9d0-469546298f92",
   "metadata": {},
   "source": [
    "3. Encuentre el intervalo más largo en el que se debe encontrar $p^*$ para aproximarse a p con error relativo máximo de $10^{-4}$ para cada valor de p.\n",
    "![Ejercicio3](ejercicio3.png)"
   ]
  },
  {
   "cell_type": "markdown",
   "id": "4df9af7a-5d4c-4642-a073-029d72cba77b",
   "metadata": {},
   "source": [
    "Para resolver esta serie de problemas primero haremos cumplir la condición que indica que el error relativo debe ser máximo $10^{-4}$ \n",
    "\n",
    "Error relativo= $\\frac{| p-p^*|}{p}$\n",
    "\n",
    "$\\frac{| p-p^*|}{p}$ <= $10^{-4}$\n",
    "\n",
    "$\\ |p-p^*|$ <= $p * 10^{-4}$\n",
    "\n",
    "$-p*10^{-4}<=p-p^*<=p*10^{-4}$\n",
    "\n",
    "$-p-p*10^{-4}<=-p^*<=-p+p*10^{-4}$\n",
    "\n",
    "$p+p*10^{-4}>= p^*>=p-p*10^{-4}$\n"
   ]
  },
  {
   "cell_type": "markdown",
   "id": "2f61f071-3123-4b10-96cc-4b74397e4160",
   "metadata": {},
   "source": [
    "a)\n",
    "p=$\\pi$\n"
   ]
  },
  {
   "cell_type": "code",
   "execution_count": 32,
   "id": "b4ee874d-01ce-441b-97e5-7c0f731d690a",
   "metadata": {},
   "outputs": [
    {
     "name": "stdout",
     "output_type": "stream",
     "text": [
      "el límite superior es 3.141906812855152\n",
      "el límite inferior es 3.141278494324434\n",
      "el intervalo resultante es [3.141278494324434;3.141906812855152]\n"
     ]
    }
   ],
   "source": [
    "# Limite superior\n",
    "ls=math.pi+ (math.pi*10**-4)\n",
    "#Limite inferior\n",
    "li=math.pi-(math.pi*10**-4)\n",
    "print(f'el límite superior es {ls}',f'el límite inferior es {li}',sep='\\n')\n",
    "print(f'el intervalo resultante es [{li};{ls}]')"
   ]
  },
  {
   "cell_type": "markdown",
   "id": "df9d86f5-8b46-4f59-844a-17b9b26ada0c",
   "metadata": {},
   "source": [
    "b) p=e"
   ]
  },
  {
   "cell_type": "code",
   "execution_count": 37,
   "id": "cbd44259-4685-4b86-a916-b3cfe3d87d3c",
   "metadata": {},
   "outputs": [
    {
     "name": "stdout",
     "output_type": "stream",
     "text": [
      "el límite superior es 2.718553656641891\n",
      "el límite inferior es 2.718010000276199\n",
      "el intervalo resultante es [2.718010000276199;2.718553656641891]\n"
     ]
    }
   ],
   "source": [
    "# Limite superior\n",
    "ls=math.e+ (math.e*10**-4)\n",
    "#Limite inferior\n",
    "li=math.e-(math.e*10**-4)\n",
    "print(f'el límite superior es {ls}',f'el límite inferior es {li}',sep='\\n')\n",
    "print(f'el intervalo resultante es [{li};{ls}]')"
   ]
  },
  {
   "cell_type": "markdown",
   "id": "431b3a7c-00b8-4ed8-b812-17b898b87d0c",
   "metadata": {},
   "source": [
    "c)$p=\\sqrt{2}$"
   ]
  },
  {
   "cell_type": "code",
   "execution_count": 43,
   "id": "bf505565-c307-441e-801e-d2729815ffb2",
   "metadata": {},
   "outputs": [
    {
     "name": "stdout",
     "output_type": "stream",
     "text": [
      "el límite superior es 1.4143549837293325\n",
      "el límite inferior es 1.4140721410168577\n",
      "el intervalo resultante es [1.4140721410168577;1.4143549837293325]\n"
     ]
    }
   ],
   "source": [
    "# Limite superior\n",
    "ls=2**(1/2)+ (2**(1/2)*10**-4)\n",
    "#Limite inferior\n",
    "li=2**(1/2)-(2**(1/2)*10**-4)\n",
    "print(f'el límite superior es {ls}',f'el límite inferior es {li}',sep='\\n')\n",
    "print(f'el intervalo resultante es [{li};{ls}]')"
   ]
  },
  {
   "cell_type": "markdown",
   "id": "3768a0c7-97e0-4fd1-b1f9-29b33a3b344e",
   "metadata": {},
   "source": [
    "d)$\\sqrt[3]{7}$"
   ]
  },
  {
   "cell_type": "code",
   "execution_count": 46,
   "id": "f7038bd7-b8df-4f64-93bd-2a9c7641a30e",
   "metadata": {},
   "outputs": [
    {
     "name": "stdout",
     "output_type": "stream",
     "text": [
      "el límite superior es 1.9131224758906662\n",
      "el límite inferior es 1.9127398896541117\n",
      "el intervalo resultante es [1.9127398896541117;1.9131224758906662]\n"
     ]
    }
   ],
   "source": [
    "# Limite superior\n",
    "ls=7**(1/3)+ (7**(1/3)*10**-4)\n",
    "#Limite inferior\n",
    "li=7**(1/3)-(7**(1/3)*10**-4)\n",
    "print(f'el límite superior es {ls}',f'el límite inferior es {li}',sep='\\n')\n",
    "print(f'el intervalo resultante es [{li};{ls}]')"
   ]
  },
  {
   "cell_type": "markdown",
   "id": "2c368d46-83d8-433b-8ae7-70f5e0695df8",
   "metadata": {},
   "source": [
    "4. Use la aritmética de redondeo de tres dígitos para realizar lo siguiente. Calcule los errores absoluto y relativo con el valor exacto determinado para por lo menos cinco dígitos.\n",
    "\n",
    "![Ejercicio4](ejercicio4.png)"
   ]
  },
  {
   "cell_type": "markdown",
   "id": "4a4ea720-9ecf-48ce-b943-8a574bc19423",
   "metadata": {},
   "source": [
    "Para determinar los valores exactos se utilizarán los cálculos obtenidos por python, mientras que el redondeo se realizará manualmente.\n"
   ]
  },
  {
   "cell_type": "markdown",
   "id": "8f2a7684-234b-43bf-a320-2ebba342251d",
   "metadata": {},
   "source": [
    "a)"
   ]
  },
  {
   "cell_type": "code",
   "execution_count": 75,
   "id": "043f8ebc-72dd-48d5-aeae-452d4c0958d6",
   "metadata": {},
   "outputs": [
    {
     "name": "stdout",
     "output_type": "stream",
     "text": [
      "El valor exacto es: 5.860620417858059\n",
      "mientras que el valor de p^* es:5.86\n",
      "El error absoluto es 0.0006204178580588859\n",
      "El error relativo es 0.00010586214663696585\n"
     ]
    }
   ],
   "source": [
    "p=((13/14)-(5/7))/(2*math.e-5.4)\n",
    "aprox=5.86\n",
    "print(f'El valor exacto es: {p}',f'mientras que el valor de p^* es:{aprox}',sep='\\n')\n",
    "error_absoluto=abs(p-aprox)\n",
    "error_relativo=error_absoluto/p\n",
    "print(f'El error absoluto es {error_absoluto}',f'El error relativo es {error_relativo}',sep='\\n')"
   ]
  },
  {
   "cell_type": "markdown",
   "id": "4ac21b51-6e5c-4ae7-90db-e9daad47233b",
   "metadata": {},
   "source": [
    "b)"
   ]
  },
  {
   "cell_type": "code",
   "execution_count": 12,
   "id": "d81288cb-0686-463a-aa5c-15322a5c1f39",
   "metadata": {},
   "outputs": [
    {
     "name": "stdout",
     "output_type": "stream",
     "text": [
      "El valor exacto es: -15.155415893012513\n",
      "mientras que el valor de p^* es:-15.2\n",
      "El error absoluto es 0.04458410698748594\n",
      "El error relativo es 0.002941793699507889\n"
     ]
    }
   ],
   "source": [
    "p=(-10*math.pi)+(6*math.e-3/61)\n",
    "aprox=-15.2\n",
    "print(f'El valor exacto es: {p}',f'mientras que el valor de p^* es:{aprox}',sep='\\n')\n",
    "error_absoluto=abs(p-aprox)\n",
    "error_relativo=abs(error_absoluto/p)\n",
    "print(f'El error absoluto es {error_absoluto}',f'El error relativo es {error_relativo}',sep='\\n')"
   ]
  },
  {
   "cell_type": "markdown",
   "id": "776c9128-43ad-4554-932c-34eeaf325f81",
   "metadata": {},
   "source": [
    "c)"
   ]
  },
  {
   "cell_type": "code",
   "execution_count": 91,
   "id": "702fd2f0-ec0a-4f2d-9473-58707e380308",
   "metadata": {},
   "outputs": [
    {
     "name": "stdout",
     "output_type": "stream",
     "text": [
      "El valor exacto es: 0.18181818181818182\n",
      "mientras que el valor de p^* es:0.182\n",
      "El error absoluto es 0.0001818181818181719\n",
      "El error relativo es 0.0009999999999999454\n"
     ]
    }
   ],
   "source": [
    "p=(2/9)*(9/11)\n",
    "aprox=0.182\n",
    "print(f'El valor exacto es: {p}',f'mientras que el valor de p^* es:{aprox}',sep='\\n')\n",
    "error_absoluto=abs(p-aprox)\n",
    "error_relativo=error_absoluto/p\n",
    "print(f'El error absoluto es {error_absoluto}',f'El error relativo es {error_relativo}',sep='\\n')"
   ]
  },
  {
   "cell_type": "markdown",
   "id": "ca7b5704-32f3-4ba9-a60e-0d45cd9aaad7",
   "metadata": {},
   "source": [
    "d)"
   ]
  },
  {
   "cell_type": "code",
   "execution_count": 96,
   "id": "b800135f-96af-42a9-8cca-ba154f4fb97c",
   "metadata": {},
   "outputs": [
    {
     "name": "stdout",
     "output_type": "stream",
     "text": [
      "El valor exacto es: 23.95826074310141\n",
      "mientras que el valor de p^* es:24.0\n",
      "El error absoluto es 0.04173925689859104\n",
      "El error relativo es 0.0017421655664470355\n"
     ]
    }
   ],
   "source": [
    "p=((13)**(1/2)+(11)**(1/2))/((13)**(1/2)-(11)**(1/2))\n",
    "aprox=24.0\n",
    "print(f'El valor exacto es: {p}',f'mientras que el valor de p^* es:{aprox}',sep='\\n')\n",
    "error_absoluto=abs(p-aprox)\n",
    "error_relativo=error_absoluto/p\n",
    "print(f'El error absoluto es {error_absoluto}',f'El error relativo es {error_relativo}',sep='\\n')"
   ]
  },
  {
   "cell_type": "markdown",
   "id": "810c3064-fb93-4e8c-b0ae-33e2e00aad09",
   "metadata": {},
   "source": [
    "5. Los primeros tres términos diferentes a cero de la serie Maclaurin para la función arcotangente son: $x-(\\frac{1}{3})*x^3+(\\frac{1}{5})*x^5$. Calcule los errores absoluto y relativo en las siguientes aproximaciones de $\\pi$ mediante el polinomio en lugat del arcotagente:\n",
    "![ejercicio5](ejercicio5.png)"
   ]
  },
  {
   "cell_type": "markdown",
   "id": "cf4d8749-e0e4-485f-84a0-f0538a15d65d",
   "metadata": {},
   "source": [
    "se utilizarán los cálculos realizados a través de python para obtener el valor de las aproximaciones de $\\pi$"
   ]
  },
  {
   "cell_type": "markdown",
   "id": "bdbe99e0-6b4f-4cb2-a0fa-ac1630bffb30",
   "metadata": {},
   "source": [
    "a)"
   ]
  },
  {
   "cell_type": "code",
   "execution_count": 117,
   "id": "f6dd0cdc-a910-4e54-8301-96ea72567e7e",
   "metadata": {},
   "outputs": [
    {
     "name": "stdout",
     "output_type": "stream",
     "text": [
      "El valor aproximado es: 3.1455761316872426\n",
      "El valor real es: 3.141592653589793\n",
      "El error absoluto es: 0.04173925689859104\n",
      "El error relativo es: 0.0012679804598147663\n"
     ]
    }
   ],
   "source": [
    "tan1=1/2-(1/3)*(1/2)**3+(1/5)*(1/2)**5\n",
    "tan2=1/3-(1/3)*(1/3)**3+(1/5)*(1/3)**5\n",
    "aprox=4*(tan1+tan2)\n",
    "print(f'El valor aproximado es: {aprox}')\n",
    "print('El valor real es:', math.pi)\n",
    "error_absolto=abs(aprox-math.pi)\n",
    "error_relativo=error_absolto/math.pi\n",
    "print(f'El error absoluto es: {error_absoluto}',f'El error relativo es: {error_relativo}',sep='\\n')"
   ]
  },
  {
   "cell_type": "markdown",
   "id": "5537f8a1-73e0-4048-92df-2967fe500f49",
   "metadata": {},
   "source": [
    "b)"
   ]
  },
  {
   "cell_type": "code",
   "execution_count": 123,
   "id": "8e2a6a2d-ad23-4b04-acd7-83f372d81754",
   "metadata": {},
   "outputs": [
    {
     "name": "stdout",
     "output_type": "stream",
     "text": [
      "El valor aproximado es: 3.2253025493665293\n",
      "El valor real es: 3.141592653589793\n",
      "El error absoluto es: 0.04173925689859104\n",
      "El error relativo es: 0.026645687397149866\n"
     ]
    }
   ],
   "source": [
    "tan1=1/5-(1/3)*(1/5)**3+(1/5)*(1/5)**5\n",
    "tan2=1/239-(1/3)*(1/239)**3+(1/5)*(1/239)**5\n",
    "aprox=16*(tan1+tan2)\n",
    "print(f'El valor aproximado es: {aprox}')\n",
    "print('El valor real es:', math.pi)\n",
    "error_absolto=abs(aprox-math.pi)\n",
    "error_relativo=error_absolto/math.pi\n",
    "print(f'El error absoluto es: {error_absoluto}',f'El error relativo es: {error_relativo}',sep='\\n')"
   ]
  },
  {
   "cell_type": "markdown",
   "id": "9bde22b2-dd9e-4910-81a7-876b27345879",
   "metadata": {},
   "source": [
    "6. El número e se puede definir por medio de $e=\\sum_{n=0}^{5}(1/n)$, donde $n!=n(n-1)...2.1 $ para $n\\neq0$ y $0!$. Calcule los errorees absoluto y relativo en la siguiente aproximacion de e.\n",
    "![Ejercicio6](ejercicio6.png)"
   ]
  },
  {
   "cell_type": "markdown",
   "id": "a2475f18-2596-454b-ac1f-bdeb95691812",
   "metadata": {},
   "source": [
    "a)"
   ]
  },
  {
   "cell_type": "code",
   "execution_count": 23,
   "id": "449b5cd2-fe72-4312-8a1f-d4aa6f142c8a",
   "metadata": {},
   "outputs": [
    {
     "name": "stdout",
     "output_type": "stream",
     "text": [
      "El valor de error absoluto es: 0.0016151617923787498\n",
      "El valor de error relativo es 0.0005941848175817597\n"
     ]
    }
   ],
   "source": [
    "import math\n",
    "suma=0\n",
    "def factorial(n):\n",
    "    if n==0:\n",
    "        return 1\n",
    "    else:\n",
    "        factorial=1\n",
    "        for i in range(1,n+1):\n",
    "            factorial*=i\n",
    "        return factorial \n",
    "for i in range(0,6):\n",
    "    suma+=(1/factorial(i))\n",
    "error_absoluto= math.e-suma\n",
    "print(f'El valor de error absoluto es: {error_absoluto}')\n",
    "error_relativo=(error_absoluto/math.e)\n",
    "print(f'El valor de error relativo es {error_relativo}')"
   ]
  },
  {
   "cell_type": "markdown",
   "id": "2f3c5ba5-c9d6-4e71-bd5e-2323e60dfd13",
   "metadata": {},
   "source": [
    "b)"
   ]
  },
  {
   "cell_type": "code",
   "execution_count": 33,
   "id": "1cf4af7f-8f06-402c-a672-0d8ad8bf261b",
   "metadata": {},
   "outputs": [
    {
     "name": "stdout",
     "output_type": "stream",
     "text": [
      "El valor de error absoluto es: 3.0288585284310443e-07\n",
      "El valor de error relativo es 1.1142547828265698e-07\n"
     ]
    }
   ],
   "source": [
    "import math\n",
    "suma=0\n",
    "def factorial(n):\n",
    "    if n==0:\n",
    "        return 1\n",
    "    else:\n",
    "        factorial=1\n",
    "        for i in range(1,n+1):\n",
    "            factorial*=i\n",
    "        return factorial \n",
    "for i in range(0,10):\n",
    "    suma+=(1/factorial(i))\n",
    "error_absoluto= math.e-suma\n",
    "print(f'El valor de error absoluto es: {error_absoluto}')\n",
    "error_relativo=(error_absoluto/math.e)\n",
    "print(f'El valor de error relativo es {error_relativo}')"
   ]
  },
  {
   "cell_type": "markdown",
   "id": "0d08a15f-c64c-4108-9606-399a58e228d6",
   "metadata": {},
   "source": [
    "7. Suponga que dos puntos(x0,y0) y (x1,y1) se encuentran en línea recta con $y1 != y0$.Existen dos fórmulas para encontrar la intersección x de la línea\n",
    "![Ejercicio7](ejercicio7.png)"
   ]
  },
  {
   "cell_type": "markdown",
   "id": "872db62f-3fca-4d28-9672-3132bead564d",
   "metadata": {},
   "source": [
    "a)Use los datos $(x_0,y_0)$=(1.31,3.24) y $(x_1,y_1)=(1.93,5.76)$ y la aritmética de redondeo de tres dígitos para calcular la intersección con x de ambas maneras. ¿Cuál método es mejor y por qué? "
   ]
  },
  {
   "cell_type": "code",
   "execution_count": 55,
   "id": "2d216d13-5f0d-45d7-b9b5-20b1e9dd5eb1",
   "metadata": {},
   "outputs": [
    {
     "name": "stdout",
     "output_type": "stream",
     "text": [
      "el valor de la formula 1 es: 0.5128571428571429\n",
      "el valor de la formula 2 es 0.5128571428571428\n",
      "Utilizando la formula 1:\n",
      "El error absoluto es 0.00014285714285711126\n"
     ]
    }
   ],
   "source": [
    "import math\n",
    "def formula1(x0,y0,x1,y1):\n",
    "    punto=((x0*y1)-(x1*y0))/(y1-y0)\n",
    "    return punto\n",
    "def formula2(x0,y0,x1,y1):\n",
    "    punto=x0-(((x1-x0)*y0)/(y1-y0))\n",
    "    return punto\n",
    "print(f'el valor de la formula 1 es: {formula1(1.31,3.24,1.93,5.76)}',f'el valor de la formula 2 es {formula2(1.31,3.24,1.93,5.76)}', sep = '\\n')\n",
    "print('Utilizando la formula 1:')\n",
    "error_absoluto1=abs( formula1(1.31,3.24,1.93,5.76)- round(formula1(1.31,3.24,1.93,5.76),3))\n",
    "print(f'El error absoluto es {error_absoluto1}')"
   ]
  },
  {
   "cell_type": "markdown",
   "id": "5df2f63b-fb1b-4dfd-a710-8d5f5c881425",
   "metadata": {},
   "source": [
    "El segundo método es mejor ya que requiere de una cantidad menor de multiplicaciones y divisiones, para obtener la respuesta con un grado similar de presición"
   ]
  }
 ],
 "metadata": {
  "kernelspec": {
   "display_name": "Python 3 (ipykernel)",
   "language": "python",
   "name": "python3"
  },
  "language_info": {
   "codemirror_mode": {
    "name": "ipython",
    "version": 3
   },
   "file_extension": ".py",
   "mimetype": "text/x-python",
   "name": "python",
   "nbconvert_exporter": "python",
   "pygments_lexer": "ipython3",
   "version": "3.12.4"
  }
 },
 "nbformat": 4,
 "nbformat_minor": 5
}
